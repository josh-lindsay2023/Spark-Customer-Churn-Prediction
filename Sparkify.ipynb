{
 "cells": [
  {
   "cell_type": "markdown",
   "metadata": {},
   "source": [
    "# Sparkify Project Workspace\n",
    "This workspace contains a tiny subset (128MB) of the full dataset available (12GB). \n",
    "To begin with the correct libraries are downloaded and the spark session is started."
   ]
  },
  {
   "cell_type": "code",
   "execution_count": 5,
   "metadata": {},
   "outputs": [],
   "source": [
    "# import libraries\n",
    "from pyspark.sql import SparkSession\n",
    "from pyspark.ml.feature import RegexTokenizer, CountVectorizer, \\\n",
    "    IDF, StringIndexer\n",
    "from pyspark.sql.functions import udf\n",
    "from pyspark.sql.types import IntegerType\n",
    "from pyspark.sql.functions import when, col\n",
    "import re\n",
    "from pyspark.sql.functions import count\n",
    "from pyspark.sql import Window\n",
    "from pyspark.sql.functions import desc\n",
    "from pyspark.sql.functions import collect_list\n",
    "from pyspark.sql.functions import lag, row_number\n",
    "\n",
    "import matplotlib.pyplot as plt\n",
    "import pyspark.sql.functions as F\n",
    "from pyspark.ml.classification import LogisticRegression\n",
    "from pyspark.ml.feature import VectorAssembler\n",
    "from pyspark.ml.classification import DecisionTreeClassifier\n",
    "from pyspark.ml.evaluation import MulticlassClassificationEvaluator\n",
    "import numpy as np\n",
    "from pyspark.ml.classification import GBTClassifier\n",
    "from pyspark.ml.classification import RandomForestClassifier"
   ]
  },
  {
   "cell_type": "code",
   "execution_count": 6,
   "metadata": {},
   "outputs": [],
   "source": [
    "# create a Spark session\n",
    "spark = SparkSession.builder \\\n",
    "    .master(\"local\") \\\n",
    "    .appName(\"Capstone Project\") \\\n",
    "    .getOrCreate()"
   ]
  },
  {
   "cell_type": "markdown",
   "metadata": {},
   "source": [
    "# Load the Dataset\n",
    "In this workspace, the mini-dataset file is `mini_sparkify_event_data.json`. This is then loaded to the local computer to allow the use of Spark to analyse."
   ]
  },
  {
   "cell_type": "code",
   "execution_count": 7,
   "metadata": {},
   "outputs": [],
   "source": [
    "stack_overflow_data = 'mini_sparkify_event_data.json'"
   ]
  },
  {
   "cell_type": "code",
   "execution_count": 8,
   "metadata": {},
   "outputs": [],
   "source": [
    "df = spark.read.json(stack_overflow_data)"
   ]
  },
  {
   "cell_type": "markdown",
   "metadata": {},
   "source": [
    "# Exploratory Data Analysis"
   ]
  },
  {
   "cell_type": "code",
   "execution_count": 9,
   "metadata": {},
   "outputs": [
    {
     "data": {
      "text/plain": [
       "Row(artist='Martha Tilston', auth='Logged In', firstName='Colin', gender='M', itemInSession=50, lastName='Freeman', length=277.89016, level='paid', location='Bakersfield, CA', method='PUT', page='NextSong', registration=1538173362000, sessionId=29, song='Rockpools', status=200, ts=1538352117000, userAgent='Mozilla/5.0 (Windows NT 6.1; WOW64; rv:31.0) Gecko/20100101 Firefox/31.0', userId='30')"
      ]
     },
     "execution_count": 9,
     "metadata": {},
     "output_type": "execute_result"
    }
   ],
   "source": [
    "df.head() #see variable used within the data\n"
   ]
  },
  {
   "cell_type": "code",
   "execution_count": 10,
   "metadata": {},
   "outputs": [
    {
     "data": {
      "text/plain": [
       "286500"
      ]
     },
     "execution_count": 10,
     "metadata": {},
     "output_type": "execute_result"
    }
   ],
   "source": [
    "df.count() # see numer of interactions"
   ]
  },
  {
   "cell_type": "code",
   "execution_count": 11,
   "metadata": {},
   "outputs": [
    {
     "data": {
      "text/plain": [
       "226"
      ]
     },
     "execution_count": 11,
     "metadata": {},
     "output_type": "execute_result"
    }
   ],
   "source": [
    "df_no_users= df.select('userId').dropDuplicates().count() # see the number of users in dataset\n",
    "df_no_users"
   ]
  },
  {
   "cell_type": "markdown",
   "metadata": {},
   "source": [
    "# Define Churn\n",
    "There is currently no column to signify when a customer has churned - we need to create this whilst also creating a list of all the users who churn."
   ]
  },
  {
   "cell_type": "code",
   "execution_count": 12,
   "metadata": {},
   "outputs": [],
   "source": [
    "cancel= ['Cancellation Confirmation']#recording the page which signifys churn\n",
    "df= df.withColumn('churn', when(col('page').isin(cancel),1).otherwise(0))# creating a column which is 1 when churn occurs, 0 when not. \n",
    "\n",
    "cancel_df= df.where(df.churn == 1) # df of all churn events\n",
    "cancel_users = cancel_df.select('userId').rdd.flatMap(lambda x: x).collect() #collect the userids of those who churn\n",
    "df = df.withColumn('will_cancel', F.when(df['userId'].isin(cancel_users), 1).otherwise(0))#create a column in the original dataset which is 1 if the customer will churn and 0 without.\n"
   ]
  },
  {
   "cell_type": "markdown",
   "metadata": {},
   "source": [
    "We want to know if customers who will ultimately churn are significantly different than those who do so - in order to do this we will create two databases one with all the inteactions of the customers who will churn and one with all other customer interactions. "
   ]
  },
  {
   "cell_type": "code",
   "execution_count": 13,
   "metadata": {},
   "outputs": [],
   "source": [
    "\n",
    "non_cancel_df_big = df.where(~col('userId').isin(cancel_users))\n",
    "cancel_df_big = df.where(col('userId').isin(cancel_users))"
   ]
  },
  {
   "cell_type": "markdown",
   "metadata": {},
   "source": [
    "Now we want to find the number of users in each"
   ]
  },
  {
   "cell_type": "code",
   "execution_count": 14,
   "metadata": {},
   "outputs": [
    {
     "data": {
      "text/plain": [
       "52"
      ]
     },
     "execution_count": 14,
     "metadata": {},
     "output_type": "execute_result"
    }
   ],
   "source": [
    "cancel_df_user= cancel_df_big.dropDuplicates(['userId'])\n",
    "\n",
    "cancel_df_user.count()\n"
   ]
  },
  {
   "cell_type": "code",
   "execution_count": 15,
   "metadata": {},
   "outputs": [
    {
     "data": {
      "text/plain": [
       "174"
      ]
     },
     "execution_count": 15,
     "metadata": {},
     "output_type": "execute_result"
    }
   ],
   "source": [
    "non_cancel_df_user= non_cancel_df_big.dropDuplicates(['userId'])\n",
    "non_cancel_df_user.count()"
   ]
  },
  {
   "cell_type": "markdown",
   "metadata": {},
   "source": [
    "Now for the same with interactions and the ratio of the two groups."
   ]
  },
  {
   "cell_type": "code",
   "execution_count": 16,
   "metadata": {
    "scrolled": true
   },
   "outputs": [
    {
     "data": {
      "text/plain": [
       "44864"
      ]
     },
     "execution_count": 16,
     "metadata": {},
     "output_type": "execute_result"
    }
   ],
   "source": [
    "cancel_df_big.count()\n"
   ]
  },
  {
   "cell_type": "code",
   "execution_count": 17,
   "metadata": {},
   "outputs": [
    {
     "data": {
      "text/plain": [
       "241636"
      ]
     },
     "execution_count": 17,
     "metadata": {},
     "output_type": "execute_result"
    }
   ],
   "source": [
    "non_cancel_df_big.count()"
   ]
  },
  {
   "cell_type": "code",
   "execution_count": 18,
   "metadata": {},
   "outputs": [
    {
     "data": {
      "text/plain": [
       "5.385966476462197"
      ]
     },
     "execution_count": 18,
     "metadata": {},
     "output_type": "execute_result"
    }
   ],
   "source": [
    "non_cancel_df_big.count()/cancel_df_big.count() # work out the proportion of the two groups\n"
   ]
  },
  {
   "cell_type": "markdown",
   "metadata": {},
   "source": [
    "We want the number of customers in each level of subscription"
   ]
  },
  {
   "cell_type": "code",
   "execution_count": 19,
   "metadata": {},
   "outputs": [
    {
     "data": {
      "text/plain": [
       "[Row(level='free', no_customers=44), Row(level='paid', no_customers=8)]"
      ]
     },
     "execution_count": 19,
     "metadata": {},
     "output_type": "execute_result"
    }
   ],
   "source": [
    "cancel_df_user.groupby(cancel_df_user.level).agg(count('*').alias('no_customers')).collect()"
   ]
  },
  {
   "cell_type": "code",
   "execution_count": 20,
   "metadata": {},
   "outputs": [
    {
     "data": {
      "text/plain": [
       "[Row(level='free', no_customers=134), Row(level='paid', no_customers=40)]"
      ]
     },
     "execution_count": 20,
     "metadata": {},
     "output_type": "execute_result"
    }
   ],
   "source": [
    "non_cancel_df_user.groupby(non_cancel_df_user.level).agg(count('*').alias('no_customers')).collect()"
   ]
  },
  {
   "cell_type": "markdown",
   "metadata": {},
   "source": [
    "Now plot this"
   ]
  },
  {
   "cell_type": "code",
   "execution_count": 21,
   "metadata": {},
   "outputs": [
    {
     "data": {
      "image/png": "[encoded data removed]",
      "text/plain": [
       "<matplotlib.figure.Figure at 0x7fe856dd59e8>"
      ]
     },
     "metadata": {
      "needs_background": "light"
     },
     "output_type": "display_data"
    }
   ],
   "source": [
    "\n",
    "import numpy as np\n",
    "# Data\n",
    "levels = ['free', 'paid']\n",
    "no_customers_cancel = [44, 8]\n",
    "no_customers_non_cancel = [134, 40]\n",
    "bar_width= 0.35\n",
    "r1 = np.arange(len(levels))\n",
    "r2 = [x + bar_width for x in r1]\n",
    "\n",
    "# Plotting\n",
    "plt.bar(r1, no_customers_cancel, width= bar_width, label='Cancelled Customers')\n",
    "plt.bar(r2,  no_customers_non_cancel,width= bar_width , label='Non-Cancelled Customers')\n",
    "plt.xlabel('Level')\n",
    "plt.ylabel('Number of Customers')\n",
    "plt.title('Number of Customers by Level')\n",
    "plt.xticks([r + bar_width/2 for r in range(len(levels))], levels)\n",
    "\n",
    "plt.legend()\n",
    "plt.show()"
   ]
  },
  {
   "cell_type": "markdown",
   "metadata": {},
   "source": [
    "We can also compare the average number of songs both customers who churn and those who don't listen to"
   ]
  },
  {
   "cell_type": "code",
   "execution_count": 59,
   "metadata": {},
   "outputs": [
    {
     "data": {
      "text/plain": [
       "862.7692307692307"
      ]
     },
     "execution_count": 59,
     "metadata": {},
     "output_type": "execute_result"
    }
   ],
   "source": [
    "cancel_df_song= cancel_df_big.select('song').count() # count the number of songs in churned customer df\n",
    "cancel_df_user= cancel_df_big.select('userId').dropDuplicates().count() # count number of users\n",
    "avg_song= cancel_df_song / cancel_df_user # find average number of songs\n",
    "avg_song"
   ]
  },
  {
   "cell_type": "code",
   "execution_count": 60,
   "metadata": {},
   "outputs": [
    {
     "data": {
      "text/plain": [
       "1388.712643678161"
      ]
     },
     "execution_count": 60,
     "metadata": {},
     "output_type": "execute_result"
    }
   ],
   "source": [
    "non_cancel_df_song= non_cancel_df_big.select('song').count() # now do same for customers who dont churn \n",
    "non_cancel_df_user= non_cancel_df_big.select('userId').dropDuplicates().count()\n",
    "avg_song2= non_cancel_df_song / non_cancel_df_user\n",
    "avg_song2"
   ]
  },
  {
   "cell_type": "markdown",
   "metadata": {},
   "source": [
    "We will create a window for the last 20 actions which a users does before they cancel their account and see if there is any pattern when comapred to all ac tions within the dataset. "
   ]
  },
  {
   "cell_type": "code",
   "execution_count": 62,
   "metadata": {},
   "outputs": [],
   "source": [
    "window_range = Window.partitionBy(\"userId\").orderBy(col('ts').desc())# group by user and order their values by time\n",
    "\n"
   ]
  },
  {
   "cell_type": "code",
   "execution_count": 63,
   "metadata": {},
   "outputs": [],
   "source": [
    "c_df_with_row_number = cancel_df_big.withColumn(\"row_number\", row_number().over(window_range)) # number rows of each partition"
   ]
  },
  {
   "cell_type": "code",
   "execution_count": 64,
   "metadata": {},
   "outputs": [],
   "source": [
    "last_twenty = c_df_with_row_number.filter(col(\"row_number\") <= 20) #subset data to last 20 actions each customer takes"
   ]
  },
  {
   "cell_type": "code",
   "execution_count": 65,
   "metadata": {},
   "outputs": [
    {
     "data": {
      "text/plain": [
       "1031"
      ]
     },
     "execution_count": 65,
     "metadata": {},
     "output_type": "execute_result"
    }
   ],
   "source": [
    "last_twenty.count()"
   ]
  },
  {
   "cell_type": "code",
   "execution_count": 66,
   "metadata": {},
   "outputs": [
    {
     "data": {
      "text/plain": [
       "[Row(page='Cancel', count=52),\n",
       " Row(page='Thumbs Down', count=18),\n",
       " Row(page='Home', count=36),\n",
       " Row(page='Downgrade', count=27),\n",
       " Row(page='Roll Advert', count=37),\n",
       " Row(page='Logout', count=13),\n",
       " Row(page='Save Settings', count=1),\n",
       " Row(page='Cancellation Confirmation', count=52),\n",
       " Row(page='Settings', count=24),\n",
       " Row(page='Add to Playlist', count=19),\n",
       " Row(page='Add Friend', count=11),\n",
       " Row(page='NextSong', count=696),\n",
       " Row(page='Thumbs Up', count=38),\n",
       " Row(page='Help', count=4),\n",
       " Row(page='Upgrade', count=1),\n",
       " Row(page='Error', count=2)]"
      ]
     },
     "execution_count": 66,
     "metadata": {},
     "output_type": "execute_result"
    }
   ],
   "source": [
    "last_twenty_page = last_twenty.groupby(last_twenty.page).count().collect() #show the  occurances of each page in the last twenty actions databsase\n",
    "last_twenty_page"
   ]
  },
  {
   "cell_type": "code",
   "execution_count": 67,
   "metadata": {
    "scrolled": true
   },
   "outputs": [
    {
     "name": "stdout",
     "output_type": "stream",
     "text": [
      "+--------------------+-----+\n",
      "|                page|count|\n",
      "+--------------------+-----+\n",
      "|              Cancel|   52|\n",
      "|         Thumbs Down|   18|\n",
      "|                Home|   36|\n",
      "|           Downgrade|   27|\n",
      "|         Roll Advert|   37|\n",
      "|              Logout|   13|\n",
      "|       Save Settings|    1|\n",
      "|Cancellation Conf...|   52|\n",
      "|            Settings|   24|\n",
      "|     Add to Playlist|   19|\n",
      "|          Add Friend|   11|\n",
      "|            NextSong|  696|\n",
      "|           Thumbs Up|   38|\n",
      "|                Help|    4|\n",
      "|             Upgrade|    1|\n",
      "|               Error|    2|\n",
      "+--------------------+-----+\n",
      "\n"
     ]
    },
    {
     "data": {
      "image/png": "[encoded data removed]",
      "text/plain": [
       "<matplotlib.figure.Figure at 0x7efc4ab83048>"
      ]
     },
     "metadata": {
      "needs_background": "light"
     },
     "output_type": "display_data"
    }
   ],
   "source": [
    "last_twenty_df= spark.createDataFrame(last_twenty_page, ['page', 'count']) #make a dataframe for this\n",
    "last_twenty_df.show()\n",
    "total_count = last_twenty_df.select(F.sum('count')).collect()[0][0] # calculate a total sum of the count column to work it out as a percentage distribution\n",
    "last_twenty_df= last_twenty_df.withColumn('percentage', (last_twenty_df['count'] / total_count) * 100)#add % column to database\n",
    "#convert  to pandas and plot\n",
    "last_twenty_pd= last_twenty_df.toPandas()\n",
    "last_twenty_pd =last_twenty_pd.sort_values(by='percentage', ascending=False)\n",
    "\n",
    "plt.figure(figsize=(12, 6))\n",
    "plt.bar(last_twenty_pd['page'], last_twenty_pd['percentage'])\n",
    "plt.xticks(rotation=90)\n",
    "plt.xlabel('Page')\n",
    "plt.ylabel('Percentage')\n",
    "plt.title('The last 20 pages customers visited before they cancelled and their % distribution')\n",
    "plt.tight_layout()\n"
   ]
  },
  {
   "cell_type": "code",
   "execution_count": 68,
   "metadata": {},
   "outputs": [
    {
     "data": {
      "image/png": "[encoded data removed]",
      "text/plain": [
       "<matplotlib.figure.Figure at 0x7efc4af229b0>"
      ]
     },
     "metadata": {
      "needs_background": "light"
     },
     "output_type": "display_data"
    }
   ],
   "source": [
    "#now do same for full dataset\n",
    "df_page= df.groupby(df.page).count().collect()\n",
    "df_pd= spark.createDataFrame(df_page, ['page', 'count'])\n",
    "total_count = df_pd.select(F.sum('count')).collect()[0][0]\n",
    "df_pd= df_pd.withColumn('percentage', (df_pd['count'] / total_count) * 100)\n",
    "df_pd= df_pd.toPandas()\n",
    "\n",
    "df_pd =df_pd.sort_values(by='percentage', ascending=False)\n",
    "plt.figure(figsize=(12, 6))\n",
    "plt.bar(df_pd['page'], df_pd['percentage'])\n",
    "plt.xticks(rotation=90)\n",
    "plt.xlabel('Page')\n",
    "plt.ylabel('Percentage')\n",
    "plt.title('% distribution of pages which customers visit')\n",
    "plt.tight_layout()"
   ]
  },
  {
   "cell_type": "markdown",
   "metadata": {},
   "source": [
    "# Feature Engineering\n",
    "Now we have to ensure all of the predictor variables are in the correct format to be used by the modelling techniques in the next section - that is they are all numeric and then inputted as a vector. The variables we are using are gender, level, sessionid, iteminsession and page. Also create an identifier colum for customers who will churn which is what will be predicted"
   ]
  },
  {
   "cell_type": "code",
   "execution_count": 69,
   "metadata": {},
   "outputs": [],
   "source": [
    "df = spark.read.json(stack_overflow_data)\n",
    "df = df.withColumn('gender_numeric', when(df.gender == 'm', 1).otherwise(0)) # change gender to numeric binary \n",
    "df = df.withColumn('level_numeric', when(df.level == 'paid', 1).otherwise(0)) # change subscription to numeric binary\n",
    "df = df.withColumn('will_cancel', F.when(df['userId'].isin(cancel_users), 1).otherwise(0)) # create target variable\n",
    "df= df.withColumn('churn', when(col('page').isin(cancel),1).otherwise(0))"
   ]
  },
  {
   "cell_type": "markdown",
   "metadata": {},
   "source": [
    "Page is now the only non-numeric vector and will have to be converted using below functions"
   ]
  },
  {
   "cell_type": "code",
   "execution_count": 23,
   "metadata": {},
   "outputs": [
    {
     "data": {
      "text/plain": [
       "Row(artist='Martha Tilston', auth='Logged In', firstName='Colin', gender='M', itemInSession=50, lastName='Freeman', length=277.89016, level='paid', location='Bakersfield, CA', method='PUT', page='NextSong', registration=1538173362000, sessionId=29, song='Rockpools', status=200, ts=1538352117000, userAgent='Mozilla/5.0 (Windows NT 6.1; WOW64; rv:31.0) Gecko/20100101 Firefox/31.0', userId='30', churn=0, will_cancel=0, pagewords=['nextsong'])"
      ]
     },
     "execution_count": 23,
     "metadata": {},
     "output_type": "execute_result"
    }
   ],
   "source": [
    "\n",
    "\n",
    "\n",
    "\n",
    "regexTokenizer = RegexTokenizer(inputCol=\"page\", outputCol='pagewords', pattern=\"\\\\W\")\n",
    "\n",
    "df = regexTokenizer.transform(df)\n",
    "\n",
    "df.head()"
   ]
  },
  {
   "cell_type": "code",
   "execution_count": 24,
   "metadata": {
    "scrolled": false
   },
   "outputs": [],
   "source": [
    "\n",
    "cv = CountVectorizer(inputCol=\"pagewords\", outputCol=\"TF\", vocabSize=1000)\n",
    "cvmodel = cv.fit(df)\n",
    "df = cvmodel.transform(df)\n",
    "\n"
   ]
  },
  {
   "cell_type": "code",
   "execution_count": 25,
   "metadata": {},
   "outputs": [
    {
     "data": {
      "text/plain": [
       "Row(artist='Martha Tilston', auth='Logged In', firstName='Colin', gender='M', itemInSession=50, lastName='Freeman', length=277.89016, level='paid', location='Bakersfield, CA', method='PUT', page='NextSong', registration=1538173362000, sessionId=29, song='Rockpools', status=200, ts=1538352117000, userAgent='Mozilla/5.0 (Windows NT 6.1; WOW64; rv:31.0) Gecko/20100101 Firefox/31.0', userId='30', churn=0, will_cancel=0, pagewords=['nextsong'], TF=SparseVector(26, {0: 1.0}), TFIDF=SparseVector(26, {0: 0.2279}))"
      ]
     },
     "execution_count": 25,
     "metadata": {},
     "output_type": "execute_result"
    }
   ],
   "source": [
    "idf = IDF(inputCol=\"TF\", outputCol=\"TFIDF\")\n",
    "\n",
    "idfModel = idf.fit(df)\n",
    "\n",
    "df = idfModel.transform(df)\n",
    "\n",
    "df.head()"
   ]
  },
  {
   "cell_type": "markdown",
   "metadata": {},
   "source": [
    "Now we have converted page to the numeric TFIDF column we create a vector of all of the numeric predictors we have identified"
   ]
  },
  {
   "cell_type": "code",
   "execution_count": 73,
   "metadata": {},
   "outputs": [],
   "source": [
    "assembler = VectorAssembler(inputCols=['TFIDF','gender_numeric', 'level_numeric','sessionId', 'itemInSession'], outputCol='features')\n",
    "df = assembler.transform(df)"
   ]
  },
  {
   "cell_type": "markdown",
   "metadata": {},
   "source": [
    "# Modeling\n",
    "Split the full dataset into train, test, and validation sets."
   ]
  },
  {
   "cell_type": "code",
   "execution_count": 74,
   "metadata": {},
   "outputs": [
    {
     "name": "stdout",
     "output_type": "stream",
     "text": [
      "+------+---------+---------+------+-------------+---------+------+-----+--------------------+------+--------------------+-------------+---------+----+------+-------------+--------------------+------+--------------+-------------+-----------+-----+--------------------+--------------------+--------------------+--------------------+\n",
      "|artist|     auth|firstName|gender|itemInSession| lastName|length|level|            location|method|                page| registration|sessionId|song|status|           ts|           userAgent|userId|gender_numeric|level_numeric|will_cancel|churn|           pagewords|                  TF|               TFIDF|            features|\n",
      "+------+---------+---------+------+-------------+---------+------+-----+--------------------+------+--------------------+-------------+---------+----+------+-------------+--------------------+------+--------------+-------------+-----------+-----+--------------------+--------------------+--------------------+--------------------+\n",
      "|  null|Cancelled|   Adriel|     M|          104|  Mendoza|  null| paid|  Kansas City, MO-KS|   GET|Cancellation Conf...|1535623466000|      514|null|   200|1538943990000|\"Mozilla/5.0 (Mac...|    18|             0|            1|          1|    1|[cancellation, co...|(26,[21,23],[1.0,...|(26,[21,23],[8.59...|(30,[21,23,27,28,...|\n",
      "|  null|Cancelled|    Angel|     M|           65|   Jacobs|  null| free|Spokane-Spokane V...|   GET|Cancellation Conf...|1536257455000|       71|null|   200|1538953071000|Mozilla/5.0 (X11;...|100019|             0|            0|          1|    1|[cancellation, co...|(26,[21,23],[1.0,...|(26,[21,23],[8.59...|(30,[21,23,28,29]...|\n",
      "|  null|Cancelled| Antonina|     F|          311|  Kennedy|  null| paid|Colorado Springs, CO|   GET|Cancellation Conf...|1526739206000|      397|null|   200|1543009344000|\"Mozilla/5.0 (Win...|300001|             0|            1|          1|    1|[cancellation, co...|(26,[21,23],[1.0,...|(26,[21,23],[8.59...|(30,[21,23,27,28,...|\n",
      "|  null|Cancelled|     Cali|     F|           51|    Brown|  null| paid|Cleveland-Elyria, OH|   GET|Cancellation Conf...|1537367773000|      165|null|   200|1541184816000|\"Mozilla/5.0 (Win...|100013|             0|            1|          1|    1|[cancellation, co...|(26,[21,23],[1.0,...|(26,[21,23],[8.59...|(30,[21,23,27,28,...|\n",
      "|  null|Cancelled|    Cason|     M|           73|    Smith|  null| free|          Monroe, LA|   GET|Cancellation Conf...|1532610926000|      115|null|   200|1539971825000|\"Mozilla/5.0 (Mac...|100005|             0|            0|          1|    1|[cancellation, co...|(26,[21,23],[1.0,...|(26,[21,23],[8.59...|(30,[21,23,28,29]...|\n",
      "|  null|Cancelled|  Charles|     M|            7|   Harper|  null| free|    St. Louis, MO-IL|   GET|Cancellation Conf...|1531679695000|      267|null|   200|1541120964000|\"Mozilla/5.0 (Mac...|200011|             0|            0|          1|    1|[cancellation, co...|(26,[21,23],[1.0,...|(26,[21,23],[8.59...|(30,[21,23,28,29]...|\n",
      "|  null|Cancelled|Charlotte|     F|          122|  Frazier|  null| free|Baltimore-Columbi...|   GET|Cancellation Conf...|1537537765000|      347|null|   200|1542356278000|\"Mozilla/5.0 (Mac...|200016|             0|            0|          1|    1|[cancellation, co...|(26,[21,23],[1.0,...|(26,[21,23],[8.59...|(30,[21,23,28,29]...|\n",
      "|  null|Cancelled|   Chayse|     M|           91|   Keller|  null| paid|         Jackson, MS|   GET|Cancellation Conf...|1529643103000|     1940|null|   200|1542234867000|\"Mozilla/5.0 (Win...|    70|             0|            1|          1|    1|[cancellation, co...|(26,[21,23],[1.0,...|(26,[21,23],[8.59...|(30,[21,23,27,28,...|\n",
      "|  null|Cancelled|Christian|     M|          100| Robinson|  null| paid|       Quincy, IL-MO|   GET|Cancellation Conf...|1534942082000|     1092|null|   200|1540050556000|\"Mozilla/5.0 (Win...|    87|             0|            1|          1|    1|[cancellation, co...|(26,[21,23],[1.0,...|(26,[21,23],[8.59...|(30,[21,23,27,28,...|\n",
      "|  null|Cancelled|   Connor|     M|           33|  Mendoza|  null| free|San Diego-Carlsba...|   GET|Cancellation Conf...|1534175704000|      270|null|   200|1541746863000|\"Mozilla/5.0 (iPh...|200015|             0|            0|          1|    1|[cancellation, co...|(26,[21,23],[1.0,...|(26,[21,23],[8.59...|(30,[21,23,28,29]...|\n",
      "|  null|Cancelled|    Davis|     M|           34|     Wang|  null| paid|           Flint, MI|   GET|Cancellation Conf...|1538289776000|      802|null|   200|1539736161000|\"Mozilla/5.0 (Win...|   129|             0|            1|          1|    1|[cancellation, co...|(26,[21,23],[1.0,...|(26,[21,23],[8.59...|(30,[21,23,27,28,...|\n",
      "|  null|Cancelled|  Delaney|     F|           23|    Perez|  null| free|Miami-Fort Lauder...|   GET|Cancellation Conf...|1534627466000|       53|null|   200|1538498205000|\"Mozilla/5.0 (Mac...|100001|             0|            0|          1|    1|[cancellation, co...|(26,[21,23],[1.0,...|(26,[21,23],[8.59...|(30,[21,23,28,29]...|\n",
      "|  null|Cancelled|    Erick|     M|           48|   Brooks|  null| paid|           Selma, AL|   GET|Cancellation Conf...|1537956751000|     1112|null|   200|1540223006000|\"Mozilla/5.0 (Win...|    58|             0|            1|          1|    1|[cancellation, co...|(26,[21,23],[1.0,...|(26,[21,23],[8.59...|(30,[21,23,27,28,...|\n",
      "|  null|Cancelled|    Ethan|     M|          176|  Johnson|  null| paid|Lexington-Fayette...|   GET|Cancellation Conf...|1538080987000|      934|null|   200|1539761972000|\"Mozilla/5.0 (Win...|    51|             0|            1|          1|    1|[cancellation, co...|(26,[21,23],[1.0,...|(26,[21,23],[8.59...|(30,[21,23,27,28,...|\n",
      "|  null|Cancelled|   Isaiah|     M|           46|    Gomez|  null| paid|          London, KY|   GET|Cancellation Conf...|1537897424000|      208|null|   200|1540353577000|Mozilla/5.0 (X11;...|200024|             0|            1|          1|    1|[cancellation, co...|(26,[21,23],[1.0,...|(26,[21,23],[8.59...|(30,[21,23,27,28,...|\n",
      "|  null|Cancelled|    James|     M|           44|Dickerson|  null| paid|New York-Newark-J...|   GET|Cancellation Conf...|1537043743000|      301|null|   200|1542313003000|\"Mozilla/5.0 (Mac...|200017|             0|            1|          1|    1|[cancellation, co...|(26,[21,23],[1.0,...|(26,[21,23],[8.59...|(30,[21,23,27,28,...|\n",
      "|  null|Cancelled|    James|     M|           74|     Mann|  null| free|Birmingham-Hoover...|   GET|Cancellation Conf...|1533247234000|       17|null|   200|1540062847000|\"Mozilla/5.0 (iPh...|100017|             0|            0|          1|    1|[cancellation, co...|(26,[21,23],[1.0,...|(26,[21,23],[8.59...|(30,[21,23,28,29]...|\n",
      "|  null|Cancelled|  Jeffery|     M|           46|  Wheeler|  null| paid|         Bozeman, MT|   GET|Cancellation Conf...|1533886191000|     1324|null|   200|1540875543000|\"Mozilla/5.0 (Win...|     3|             0|            1|          1|    1|[cancellation, co...|(26,[21,23],[1.0,...|(26,[21,23],[8.59...|(30,[21,23,27,28,...|\n",
      "|  null|Cancelled| Jonathon|     M|           36|   Miller|  null| free|New York-Newark-J...|   GET|Cancellation Conf...|1536343087000|       42|null|   200|1538695038000|Mozilla/5.0 (Wind...|100024|             0|            0|          1|    1|[cancellation, co...|(26,[21,23],[1.0,...|(26,[21,23],[8.59...|(30,[21,23,28,29]...|\n",
      "|  null|Cancelled|    Kaleb|     M|           49| Thompson|  null| paid|Los Angeles-Long ...|   GET|Cancellation Conf...|1536988041000|     1864|null|   200|1542181031000|\"Mozilla/5.0 (Mac...|    29|             0|            1|          1|    1|[cancellation, co...|(26,[21,23],[1.0,...|(26,[21,23],[8.59...|(30,[21,23,27,28,...|\n",
      "+------+---------+---------+------+-------------+---------+------+-----+--------------------+------+--------------------+-------------+---------+----+------+-------------+--------------------+------+--------------+-------------+-----------+-----+--------------------+--------------------+--------------------+--------------------+\n",
      "only showing top 20 rows\n",
      "\n"
     ]
    }
   ],
   "source": [
    "train_ratio = 0.7\n",
    "test_ratio = 0.2\n",
    "validation_ratio = 0.1\n",
    "\n",
    "# Split the dataset\n",
    "train_data, test_data, validation_data = df.randomSplit([train_ratio, test_ratio, validation_ratio], seed=42)\n",
    "train_data.show()"
   ]
  },
  {
   "cell_type": "markdown",
   "metadata": {},
   "source": [
    "The first model to be used will be logistic regression which we will fit to the training set and make predictions for the test set."
   ]
  },
  {
   "cell_type": "code",
   "execution_count": 34,
   "metadata": {},
   "outputs": [
    {
     "name": "stdout",
     "output_type": "stream",
     "text": [
      "+------+---------+---------+------+-------------+---------+------+-----+--------------------+------+--------------------+-------------+---------+----+------+-------------+--------------------+------+--------------+-------------+-----------+-----+--------------------+--------------------+--------------------+--------------------+--------------------+--------------------+----------+\n",
      "|artist|     auth|firstName|gender|itemInSession| lastName|length|level|            location|method|                page| registration|sessionId|song|status|           ts|           userAgent|userId|gender_numeric|level_numeric|will_cancel|churn|           pagewords|                  TF|               TFIDF|            features|       rawPrediction|         probability|prediction|\n",
      "+------+---------+---------+------+-------------+---------+------+-----+--------------------+------+--------------------+-------------+---------+----+------+-------------+--------------------+------+--------------+-------------+-----------+-----+--------------------+--------------------+--------------------+--------------------+--------------------+--------------------+----------+\n",
      "|  null|Cancelled|     Alex|     M|          145|    Hogan|  null| paid|Denver-Aurora-Lak...|   GET|Cancellation Conf...|1535066380000|      842|null|   200|1539729037000|Mozilla/5.0 (Wind...|   101|             0|            1|          1|    1|[cancellation, co...|(26,[21,23],[1.0,...|(26,[21,23],[8.59...|(30,[21,23,27,28,...|[-16.253019211591...|[8.73782624182351...|       1.0|\n",
      "|  null|Cancelled|    Alexi|     F|           42|   Warren|  null| paid|Spokane-Spokane V...|   GET|Cancellation Conf...|1532482662000|     1819|null|   200|1542051608000|Mozilla/5.0 (Wind...|    54|             0|            1|          1|    1|[cancellation, co...|(26,[21,23],[1.0,...|(26,[21,23],[8.59...|(30,[21,23,27,28,...|[-15.101932946515...|[2.76257282416628...|       1.0|\n",
      "|  null|Cancelled|   Daniel|     M|           74|    Marks|  null| free|Chicago-Napervill...|   GET|Cancellation Conf...|1537381154000|      156|null|   200|1541100900000|\"Mozilla/5.0 (Mac...|100012|             0|            0|          1|    1|[cancellation, co...|(26,[21,23],[1.0,...|(26,[21,23],[8.59...|(30,[21,23,28,29]...|[-17.169519072109...|[3.49439982447724...|       1.0|\n",
      "|  null|Cancelled|   Keegan|     M|           46|   Rivera|  null| free|Orlando-Kissimmee...|   GET|Cancellation Conf...|1535907116000|      351|null|   200|1542472842000|Mozilla/5.0 (Maci...|200020|             0|            0|          1|    1|[cancellation, co...|(26,[21,23],[1.0,...|(26,[21,23],[8.59...|(30,[21,23,28,29]...|[-16.936259216464...|[4.41241202050120...|       1.0|\n",
      "|  null|Cancelled|  Liliana|     F|           85|     Owen|  null| paid|Detroit-Warren-De...|   GET|Cancellation Conf...|1535032914000|      276|null|   200|1541138333000|Mozilla/5.0 (Maci...|200021|             0|            1|          1|    1|[cancellation, co...|(26,[21,23],[1.0,...|(26,[21,23],[8.59...|(30,[21,23,27,28,...|[-16.863368355856...|[4.74604832697145...|       1.0|\n",
      "|  null|Cancelled|   London|     F|           49|     Diaz|  null| free|New York-Newark-J...|   GET|Cancellation Conf...|1532625569000|      129|null|   200|1540299152000|\"Mozilla/5.0 (Mac...|100025|             0|            0|          1|    1|[cancellation, co...|(26,[21,23],[1.0,...|(26,[21,23],[8.59...|(30,[21,23,28,29]...|[-17.188182134405...|[3.42978842379062...|       1.0|\n",
      "|  null|Cancelled|    Molly|     F|           43|Patterson|  null| paid|   Memphis, TN-MS-AR|   GET|Cancellation Conf...|1535498705000|     1029|null|   200|1540062068000|Mozilla/5.0 (X11;...|   122|             0|            1|          1|    1|[cancellation, co...|(26,[21,23],[1.0,...|(26,[21,23],[8.59...|(30,[21,23,27,28,...|[-15.993846959289...|[1.13229730071476...|       1.0|\n",
      "|  null|    Guest|     null|  null|            0|     null|  null| free|                null|   GET|               Error|         null|      151|null|   404|1540841775000|                null|      |             0|            0|          0|    0|             [error]|     (26,[19],[1.0])|(26,[19],[7.00866...|(30,[19,28],[7.00...|[1.11998004807353...|[0.75398501555270...|       0.0|\n",
      "|  null|    Guest|     null|  null|            0|     null|  null| free|                null|   GET|                Help|         null|     1402|null|   200|1540882719000|                null|      |             0|            0|          0|    0|              [help]|     (26,[15],[1.0])|(26,[15],[5.11135...|(30,[15,28],[5.11...|[2.33174988827852...|[0.91147263740541...|       0.0|\n",
      "|  null|    Guest|     null|  null|            0|     null|  null| free|                null|   GET|                Home|         null|     1717|null|   200|1541660675000|                null|      |             0|            0|          0|    0|              [home]|      (26,[2],[1.0])|(26,[2],[2.986494...|(30,[2,28],[2.986...|[2.98818698486953...|[0.95203759203967...|       0.0|\n",
      "|  null|    Guest|     null|  null|            1|     null|  null| free|                null|   GET|                Help|         null|     1402|null|   200|1540882732000|                null|      |             0|            0|          0|    0|              [help]|     (26,[15],[1.0])|(26,[15],[5.11135...|(30,[15,28,29],[5...|[2.33127773076568...|[0.91143453148634...|       0.0|\n",
      "|  null|    Guest|     null|  null|            1|     null|  null| free|                null|   GET|                Home|         null|      151|null|   200|1540841817000|                null|      |             0|            0|          0|    0|              [home]|      (26,[2],[1.0])|(26,[2],[2.986494...|(30,[2,28,29],[2....|[1.22062882059859...|[0.77217419123968...|       0.0|\n",
      "|  null|    Guest|     null|  null|            1|     null|  null| free|                null|   GET|                Home|         null|      155|null|   200|1543147145000|                null|      |             0|            0|          0|    0|              [home]|      (26,[2],[1.0])|(26,[2],[2.986494...|(30,[2,28,29],[2....|[1.22514245024548...|[0.77296725880219...|       0.0|\n",
      "|  null|    Guest|     null|  null|            2|     null|  null| free|                null|   GET|            Register|         null|      153|null|   200|1541077328000|                null|      |             0|            0|          0|    0|          [register]|     (26,[24],[1.0])|(26,[24],[9.62105...|(30,[24,28,29],[9...|[27.3040616913462...|[0.99999999999861...|       0.0|\n",
      "|  null|    Guest|     null|  null|            3|     null|  null| free|                null|   GET|                Help|         null|      151|null|   200|1540841834000|                null|      |             0|            0|          0|    0|              [help]|     (26,[15],[1.0])|(26,[15],[5.11135...|(30,[15,28,29],[5...|[0.91869574367462...|[0.71477627996627...|       0.0|\n",
      "|  null|    Guest|     null|  null|            3|     null|  null| free|                null|   GET|                Home|         null|      152|null|   200|1541652976000|                null|      |             0|            0|          0|    0|              [home]|      (26,[2],[1.0])|(26,[2],[2.986494...|(30,[2,28,29],[2....|[1.22081291298463...|[0.77220657537221...|       0.0|\n",
      "|  null|    Guest|     null|  null|            3|     null|  null| free|                null|   PUT| Submit Registration|         null|     1402|null|   307|1540882747000|                null|      |             0|            0|          0|    0|[submit, registra...|(26,[20,25],[1.0,...|(26,[20,25],[7.13...|(30,[20,25,28,29]...|[19.4016570638013...|[0.99999999625055...|       0.0|\n",
      "|  null|    Guest|     null|  null|            4|     null|  null| free|                null|   GET|               About|         null|      152|null|   200|1541653040000|                null|      |             0|            0|          0|    0|             [about]|     (26,[16],[1.0])|(26,[16],[5.73570...|(30,[16,28,29],[5...|[1.95482131768951...|[0.87597140650349...|       0.0|\n",
      "|  null|    Guest|     null|  null|            4|     null|  null| free|                null|   GET|                Home|         null|     2288|null|   200|1543273920000|                null|      |             0|            0|          0|    0|              [home]|      (26,[2],[1.0])|(26,[2],[2.986494...|(30,[2,28,29],[2....|[3.63061898691196...|[0.97418433308227...|       0.0|\n",
      "|  null|    Guest|     null|  null|           16|     null|  null| free|                null|   GET|               About|         null|      151|null|   200|1540842205000|                null|      |             0|            0|          0|    0|             [about]|     (26,[16],[1.0])|(26,[16],[5.73570...|(30,[16,28,29],[5...|[1.94802702012371...|[0.87523134903568...|       0.0|\n",
      "+------+---------+---------+------+-------------+---------+------+-----+--------------------+------+--------------------+-------------+---------+----+------+-------------+--------------------+------+--------------+-------------+-----------+-----+--------------------+--------------------+--------------------+--------------------+--------------------+--------------------+----------+\n",
      "only showing top 20 rows\n",
      "\n"
     ]
    }
   ],
   "source": [
    "lr = LogisticRegression(featuresCol='features', labelCol='will_cancel')\n",
    "lr_model = lr.fit(train_data)\n",
    "predictions = lr_model.transform(test_data)\n"
   ]
  },
  {
   "cell_type": "markdown",
   "metadata": {},
   "source": [
    "We can then generate metrics for the model - in this case F score"
   ]
  },
  {
   "cell_type": "code",
   "execution_count": 35,
   "metadata": {},
   "outputs": [],
   "source": [
    "\n",
    "evaluator = MulticlassClassificationEvaluator(labelCol='will_cancel', predictionCol='prediction', metricName='f1')\n",
    "f1_score = evaluator.evaluate(predictions)"
   ]
  },
  {
   "cell_type": "code",
   "execution_count": 36,
   "metadata": {},
   "outputs": [
    {
     "name": "stdout",
     "output_type": "stream",
     "text": [
      "F1 Score on the test set: 0.7759261452270115\n"
     ]
    }
   ],
   "source": [
    "print(\"F1 Score on the test set:\", f1_score)"
   ]
  },
  {
   "cell_type": "markdown",
   "metadata": {},
   "source": [
    "We are now going the same for decision tree- making the model, applying to the test set and then evaluate the f score. We are going to do it three times with three different levels of the MaxDepth hyperparameter to choose the ones that supplies the greatest f score."
   ]
  },
  {
   "cell_type": "code",
   "execution_count": 78,
   "metadata": {},
   "outputs": [
    {
     "name": "stdout",
     "output_type": "stream",
     "text": [
      "F1 Score on the test set: 0.7751195124974326\n",
      "F1 Score on the test set: 0.8086236661380297\n",
      "F1 Score on the test set: 0.8067068379012473\n"
     ]
    }
   ],
   "source": [
    "dt = DecisionTreeClassifier(labelCol=\"will_cancel\", featuresCol=\"features\", maxDepth = 10)\n",
    "dt2 = DecisionTreeClassifier(labelCol=\"will_cancel\", featuresCol=\"features\", maxDepth = 20)\n",
    "dt3 = DecisionTreeClassifier(labelCol=\"will_cancel\", featuresCol=\"features\", maxDepth = 30)\n",
    "model= dt.fit(train_data)\n",
    "model2 = dt2.fit(train_data)\n",
    "model3 = dt3.fit(train_data)\n",
    "predictions1 = model.transform(test_data)\n",
    "predictions2 = model2.transform(test_data)\n",
    "predictions3 = model3.transform(test_data)\n",
    "\n",
    "\n",
    "evaluator2 = MulticlassClassificationEvaluator(labelCol='will_cancel', predictionCol='prediction', metricName='f1')\n",
    "\n",
    "\n",
    "f1_score = evaluator2.evaluate(predictions)\n",
    "f1_score2 = evaluator2.evaluate(predictions2)\n",
    "f1_score3 = evaluator2.evaluate(predictions3)\n",
    "print(\"F1 Score on the test set:\", f1_score)\n",
    "print(\"F1 Score on the test set:\", f1_score2)\n",
    "print(\"F1 Score on the test set:\", f1_score3)"
   ]
  },
  {
   "cell_type": "markdown",
   "metadata": {},
   "source": [
    "And now the same with the random forest classifier with three different numbers of trees featured."
   ]
  },
  {
   "cell_type": "code",
   "execution_count": 91,
   "metadata": {},
   "outputs": [
    {
     "name": "stdout",
     "output_type": "stream",
     "text": [
      "F1 Score on the test set: 0.7751195124974326\n",
      "F1 Score on the test set: 0.7751195124974326\n",
      "F1 Score on the test set: 0.7751195124974326\n"
     ]
    }
   ],
   "source": [
    "rf = RandomForestClassifier(labelCol=\"will_cancel\", featuresCol=\"features\", numTrees=10)\n",
    "rf2 = RandomForestClassifier(labelCol=\"will_cancel\", featuresCol=\"features\", numTrees=50)\n",
    "rf3 = RandomForestClassifier(labelCol=\"will_cancel\", featuresCol=\"features\", numTrees=100)\n",
    "model = rf.fit(train_data)\n",
    "model2 = rf2.fit(train_data)\n",
    "model3 = rf3.fit(train_data)\n",
    "predictions = model.transform(test_data)\n",
    "predictions2 = model2.transform(test_data)\n",
    "predictions3 = model3.transform(test_data)\n",
    "evaluator3 = MulticlassClassificationEvaluator(labelCol='will_cancel', predictionCol='prediction', metricName='f1')\n",
    "f1_score = evaluator3.evaluate(predictions)\n",
    "f1_score2 = evaluator3.evaluate(predictions2)\n",
    "f1_score3 = evaluator3.evaluate(predictions3)\n",
    "print(\"F1 Score on the test set:\", f1_score)\n",
    "print(\"F1 Score on the test set:\", f1_score2)\n",
    "print(\"F1 Score on the test set:\", f1_score3)"
   ]
  },
  {
   "cell_type": "markdown",
   "metadata": {},
   "source": [
    "And finally gradient boosted trees (GBTs) are our final model and again we will compare with different levels of hyperparameter MaxDepth"
   ]
  },
  {
   "cell_type": "code",
   "execution_count": 95,
   "metadata": {},
   "outputs": [
    {
     "name": "stdout",
     "output_type": "stream",
     "text": [
      "F1 Score on the test set: 0.8068261010276427\n",
      "F1 Score on the test set: 0.8150341296503657\n",
      "F1 Score on the test set: 0.8139057695393279\n"
     ]
    }
   ],
   "source": [
    "gbt = GBTClassifier(labelCol=\"will_cancel\", featuresCol=\"features\", maxDepth=10)\n",
    "gbt2 = GBTClassifier(labelCol=\"will_cancel\", featuresCol=\"features\", maxDepth=20)\n",
    "gbt3 = GBTClassifier(labelCol=\"will_cancel\", featuresCol=\"features\", maxDepth=30)\n",
    "model = gbt.fit(train_data)\n",
    "model2 = gbt2.fit(train_data)\n",
    "model3 = gbt3.fit(train_data)\n",
    "predictions = model.transform(test_data)\n",
    "predictions2 = model2.transform(test_data)\n",
    "predictions3 = model3.transform(test_data)\n",
    "evaluator4 = MulticlassClassificationEvaluator(labelCol='will_cancel', predictionCol='prediction', metricName='f1')\n",
    "f1_score = evaluator4.evaluate(predictions)\n",
    "f1_score2 = evaluator4.evaluate(predictions2)\n",
    "f1_score3 = evaluator4.evaluate(predictions3)\n",
    "print(\"F1 Score on the test set:\", f1_score)\n",
    "print(\"F1 Score on the test set:\", f1_score2)\n",
    "print(\"F1 Score on the test set:\", f1_score3)"
   ]
  },
  {
   "cell_type": "markdown",
   "metadata": {},
   "source": [
    "GBT provided the greatest f score so we will move on and apply it to the validation set to get final results of our chosen metrics. First is the f score metric."
   ]
  },
  {
   "cell_type": "code",
   "execution_count": 78,
   "metadata": {},
   "outputs": [
    {
     "name": "stdout",
     "output_type": "stream",
     "text": [
      "F1 Score on the test set: 0.8161844877228861\n"
     ]
    }
   ],
   "source": [
    "gbt2 = GBTClassifier(labelCol=\"will_cancel\", featuresCol=\"features\", maxDepth=20)\n",
    "model2 = gbt2.fit(train_data)\n",
    "predictions2 = model2.transform(validation_data)\n",
    "evaluator4 = MulticlassClassificationEvaluator(labelCol='will_cancel', predictionCol='prediction', metricName='f1')\n",
    "f1_score2 = evaluator4.evaluate(predictions2)\n",
    "print(\"F1 Score on the test set:\", f1_score2)"
   ]
  },
  {
   "cell_type": "markdown",
   "metadata": {},
   "source": [
    "And the same for accuracy"
   ]
  },
  {
   "cell_type": "code",
   "execution_count": 81,
   "metadata": {},
   "outputs": [
    {
     "name": "stdout",
     "output_type": "stream",
     "text": [
      "Accuracy: 0.8528399915748087\n"
     ]
    }
   ],
   "source": [
    "evaluator5 = MulticlassClassificationEvaluator(labelCol='will_cancel', predictionCol='prediction', metricName='accuracy')\n",
    "accuracy = evaluator5.evaluate(predictions2)\n",
    "print(\"Accuracy:\", accuracy)"
   ]
  },
  {
   "cell_type": "markdown",
   "metadata": {},
   "source": [
    "And finally we will plot the f scores produced by all four of the methods to include in the report"
   ]
  },
  {
   "cell_type": "code",
   "execution_count": null,
   "metadata": {},
   "outputs": [],
   "source": [
    "\n",
    "\n",
    "# Define the methods and their corresponding F-scores\n",
    "methods = ['Logistic Regression', 'Decision Tree', 'Random Forest', 'GBT']\n",
    "f_scores = [0.775926, 0.80863, 0.775195, 0.81503]\n",
    "\n",
    "# Plot the F-scores\n",
    "plt.bar(methods, f_scores)\n",
    "plt.xlabel('Methods')\n",
    "plt.ylabel('F-Score')\n",
    "plt.xticks(rotation='vertical')\n",
    "plt.ylim(0.7, 0.85)\n",
    "plt.title('Comparison of F-Scores for Different Methods')\n",
    "plt.show()"
   ]
  }
 ],
 "metadata": {
  "kernelspec": {
   "display_name": "Python 3",
   "language": "python",
   "name": "python3"
  },
  "language_info": {
   "codemirror_mode": {
    "name": "ipython",
    "version": 3
   },
   "file_extension": ".py",
   "mimetype": "text/x-python",
   "name": "python",
   "nbconvert_exporter": "python",
   "pygments_lexer": "ipython3",
   "version": "3.6.3"
  }
 },
 "nbformat": 4,
 "nbformat_minor": 2
}
